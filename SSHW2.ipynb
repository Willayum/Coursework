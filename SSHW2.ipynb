{
 "cells": [
  {
   "cell_type": "markdown",
   "source": [
    "# William Etzler ECON 4984 Assignment 2"
   ],
   "metadata": {
    "collapsed": false
   },
   "id": "aa580ef1f406efb6"
  },
  {
   "cell_type": "code",
   "outputs": [],
   "source": [
    "import numpy as np\n",
    "import matplotlib.pyplot as plt\n",
    "import pandas as pd\n",
    "import statsmodels.api as sm"
   ],
   "metadata": {
    "collapsed": false,
    "ExecuteTime": {
     "end_time": "2024-04-06T01:33:08.187158Z",
     "start_time": "2024-04-06T01:33:08.166130Z"
    }
   },
   "id": "5dfe8a4c70857d43",
   "execution_count": 43
  },
  {
   "cell_type": "code",
   "outputs": [],
   "source": [
    "from sklearn.linear_model import Ridge, LinearRegression, LogisticRegression\n",
    "from sklearn.preprocessing import StandardScaler\n",
    "from sklearn.tree import DecisionTreeClassifier \n",
    "from sklearn.model_selection import cross_val_score, KFold, LeaveOneOut, GridSearchCV\n",
    "from sklearn.metrics import mean_squared_error"
   ],
   "metadata": {
    "collapsed": false,
    "ExecuteTime": {
     "end_time": "2024-04-06T02:21:50.750457Z",
     "start_time": "2024-04-06T02:21:50.746802Z"
    }
   },
   "id": "132dc3288add7737",
   "execution_count": 75
  },
  {
   "cell_type": "code",
   "outputs": [],
   "source": [
    "np.random.seed(64)"
   ],
   "metadata": {
    "collapsed": false,
    "ExecuteTime": {
     "end_time": "2024-04-06T01:33:10.291621Z",
     "start_time": "2024-04-06T01:33:10.286793Z"
    }
   },
   "id": "55d8ff114a0d4ace",
   "execution_count": 45
  },
  {
   "cell_type": "markdown",
   "source": [
    "## Problem 1 a"
   ],
   "metadata": {
    "collapsed": false
   },
   "id": "46c137224f38483e"
  },
  {
   "cell_type": "code",
   "outputs": [
    {
     "data": {
      "text/plain": "   Unnamed: 0  age  sex   bmi    map   tc    ldl   hdl  tch       ltg  glu  \\\n0           1   59    1  32.1  101.0  157   93.2  38.0  4.0  2.110590   87   \n1           2   48    0  21.6   87.0  183  103.2  70.0  3.0  1.690196   69   \n2           3   72    1  30.5   93.0  156   93.6  41.0  4.0  2.029384   85   \n3           4   24    0  25.3   84.0  198  131.4  40.0  5.0  2.123852   89   \n4           5   50    0  23.0  101.0  192  125.4  52.0  4.0  1.863323   80   \n\n   prog  \n0   151  \n1    75  \n2   141  \n3   206  \n4   135  ",
      "text/html": "<div>\n<style scoped>\n    .dataframe tbody tr th:only-of-type {\n        vertical-align: middle;\n    }\n\n    .dataframe tbody tr th {\n        vertical-align: top;\n    }\n\n    .dataframe thead th {\n        text-align: right;\n    }\n</style>\n<table border=\"1\" class=\"dataframe\">\n  <thead>\n    <tr style=\"text-align: right;\">\n      <th></th>\n      <th>Unnamed: 0</th>\n      <th>age</th>\n      <th>sex</th>\n      <th>bmi</th>\n      <th>map</th>\n      <th>tc</th>\n      <th>ldl</th>\n      <th>hdl</th>\n      <th>tch</th>\n      <th>ltg</th>\n      <th>glu</th>\n      <th>prog</th>\n    </tr>\n  </thead>\n  <tbody>\n    <tr>\n      <th>0</th>\n      <td>1</td>\n      <td>59</td>\n      <td>1</td>\n      <td>32.1</td>\n      <td>101.0</td>\n      <td>157</td>\n      <td>93.2</td>\n      <td>38.0</td>\n      <td>4.0</td>\n      <td>2.110590</td>\n      <td>87</td>\n      <td>151</td>\n    </tr>\n    <tr>\n      <th>1</th>\n      <td>2</td>\n      <td>48</td>\n      <td>0</td>\n      <td>21.6</td>\n      <td>87.0</td>\n      <td>183</td>\n      <td>103.2</td>\n      <td>70.0</td>\n      <td>3.0</td>\n      <td>1.690196</td>\n      <td>69</td>\n      <td>75</td>\n    </tr>\n    <tr>\n      <th>2</th>\n      <td>3</td>\n      <td>72</td>\n      <td>1</td>\n      <td>30.5</td>\n      <td>93.0</td>\n      <td>156</td>\n      <td>93.6</td>\n      <td>41.0</td>\n      <td>4.0</td>\n      <td>2.029384</td>\n      <td>85</td>\n      <td>141</td>\n    </tr>\n    <tr>\n      <th>3</th>\n      <td>4</td>\n      <td>24</td>\n      <td>0</td>\n      <td>25.3</td>\n      <td>84.0</td>\n      <td>198</td>\n      <td>131.4</td>\n      <td>40.0</td>\n      <td>5.0</td>\n      <td>2.123852</td>\n      <td>89</td>\n      <td>206</td>\n    </tr>\n    <tr>\n      <th>4</th>\n      <td>5</td>\n      <td>50</td>\n      <td>0</td>\n      <td>23.0</td>\n      <td>101.0</td>\n      <td>192</td>\n      <td>125.4</td>\n      <td>52.0</td>\n      <td>4.0</td>\n      <td>1.863323</td>\n      <td>80</td>\n      <td>135</td>\n    </tr>\n  </tbody>\n</table>\n</div>"
     },
     "execution_count": 46,
     "metadata": {},
     "output_type": "execute_result"
    }
   ],
   "source": [
    "betes_path = r'C:\\Users\\wetzl\\Desktop\\Python\\SSEcon\\Data\\diabetes.csv'\n",
    "betes = pd.read_csv(betes_path)\n",
    "betes.head()"
   ],
   "metadata": {
    "collapsed": false,
    "ExecuteTime": {
     "end_time": "2024-04-06T01:33:11.860751Z",
     "start_time": "2024-04-06T01:33:11.823236Z"
    }
   },
   "id": "68cc998a4d968a0",
   "execution_count": 46
  },
  {
   "cell_type": "code",
   "outputs": [
    {
     "name": "stdout",
     "output_type": "stream",
     "text": [
      "                            OLS Regression Results                            \n",
      "==============================================================================\n",
      "Dep. Variable:                   prog   R-squared:                       0.518\n",
      "Model:                            OLS   Adj. R-squared:                  0.507\n",
      "Method:                 Least Squares   F-statistic:                     46.27\n",
      "Date:                Fri, 05 Apr 2024   Prob (F-statistic):           3.83e-62\n",
      "Time:                        21:33:12   Log-Likelihood:                -2386.0\n",
      "No. Observations:                 442   AIC:                             4794.\n",
      "Df Residuals:                     431   BIC:                             4839.\n",
      "Df Model:                          10                                         \n",
      "Covariance Type:            nonrobust                                         \n",
      "==============================================================================\n",
      "                 coef    std err          t      P>|t|      [0.025      0.975]\n",
      "------------------------------------------------------------------------------\n",
      "const        152.1335      2.576     59.061      0.000     147.071     157.196\n",
      "x1            -0.4762      2.842     -0.168      0.867      -6.062       5.110\n",
      "x2           -11.4070      2.912     -3.917      0.000     -17.131      -5.683\n",
      "x3            24.7263      3.165      7.813      0.000      18.506      30.946\n",
      "x4            15.4297      3.112      4.958      0.000       9.313      21.546\n",
      "x5           -37.6804     19.820     -1.901      0.058     -76.636       1.275\n",
      "x6            22.6765     16.126      1.406      0.160      -9.019      54.372\n",
      "x7             4.8062     10.109      0.475      0.635     -15.063      24.676\n",
      "x8             8.4221      7.681      1.097      0.273      -6.674      23.518\n",
      "x9            35.7347      8.177      4.370      0.000      19.664      51.806\n",
      "x10            3.2166      3.139      1.025      0.306      -2.952       9.385\n",
      "==============================================================================\n",
      "Omnibus:                        1.506   Durbin-Watson:                   2.029\n",
      "Prob(Omnibus):                  0.471   Jarque-Bera (JB):                1.404\n",
      "Skew:                           0.017   Prob(JB):                        0.496\n",
      "Kurtosis:                       2.726   Cond. No.                         21.7\n",
      "==============================================================================\n",
      "\n",
      "Notes:\n",
      "[1] Standard Errors assume that the covariance matrix of the errors is correctly specified.\n"
     ]
    }
   ],
   "source": [
    "scalera = StandardScaler()\n",
    "\n",
    "X1a = betes.iloc[:, 1:-1]\n",
    "y1a = betes['prog']\n",
    "Xa_standardized = scalera.fit_transform(X1a)\n",
    "\n",
    "X_standardized_with_const = sm.add_constant(Xa_standardized)\n",
    "model1a = sm.OLS(y1a, X_standardized_with_const).fit()\n",
    "\n",
    "a_summary = model1a.summary()\n",
    "print(a_summary)"
   ],
   "metadata": {
    "collapsed": false,
    "ExecuteTime": {
     "end_time": "2024-04-06T01:33:12.823250Z",
     "start_time": "2024-04-06T01:33:12.781106Z"
    }
   },
   "id": "759a30afe36eb5c2",
   "execution_count": 47
  },
  {
   "cell_type": "markdown",
   "source": [
    "The variables sex, bmi, map, and ltg have extremely low p-values and higher t-scores, making them statistically significant predictors of the dependent variable prog. Variables such as age, ldl, hdl, tch, and glu do not seem to significantly predict prog, as indicated by their > .05 p-values. They y-intercept const is high and negative, implying prog is negative when all predictors are zero.  \n",
    "The R-squared value of .518 indicates that the model explains 51.8% of the variance in the dependent variable."
   ],
   "metadata": {
    "collapsed": false
   },
   "id": "e8be5fe9a962f138"
  },
  {
   "cell_type": "markdown",
   "source": [
    "## Problem 1 b"
   ],
   "metadata": {
    "collapsed": false
   },
   "id": "f3374c14121b39de"
  },
  {
   "cell_type": "code",
   "outputs": [
    {
     "name": "stdout",
     "output_type": "stream",
     "text": [
      "Table 1\n"
     ]
    },
    {
     "data": {
      "text/plain": "   Variable  OLS SE  LinReg SE  SE_Change\n0     const   2.576      2.469     -0.107\n1       age   2.842      2.720     -0.122\n2       sex   2.912      2.773     -0.139\n3       bmi   3.165      3.447      0.282\n4       map   3.112      3.150      0.038\n5        tc  19.820     19.713     -0.107\n6       ldl  16.126     15.819     -0.307\n7       hdl  10.109      9.956     -0.153\n8       tch   7.681      7.805      0.124\n9       ltg   8.177      7.781     -0.396\n10      glu   3.139      2.985     -0.154",
      "text/html": "<div>\n<style scoped>\n    .dataframe tbody tr th:only-of-type {\n        vertical-align: middle;\n    }\n\n    .dataframe tbody tr th {\n        vertical-align: top;\n    }\n\n    .dataframe thead th {\n        text-align: right;\n    }\n</style>\n<table border=\"1\" class=\"dataframe\">\n  <thead>\n    <tr style=\"text-align: right;\">\n      <th></th>\n      <th>Variable</th>\n      <th>OLS SE</th>\n      <th>LinReg SE</th>\n      <th>SE_Change</th>\n    </tr>\n  </thead>\n  <tbody>\n    <tr>\n      <th>0</th>\n      <td>const</td>\n      <td>2.576</td>\n      <td>2.469</td>\n      <td>-0.107</td>\n    </tr>\n    <tr>\n      <th>1</th>\n      <td>age</td>\n      <td>2.842</td>\n      <td>2.720</td>\n      <td>-0.122</td>\n    </tr>\n    <tr>\n      <th>2</th>\n      <td>sex</td>\n      <td>2.912</td>\n      <td>2.773</td>\n      <td>-0.139</td>\n    </tr>\n    <tr>\n      <th>3</th>\n      <td>bmi</td>\n      <td>3.165</td>\n      <td>3.447</td>\n      <td>0.282</td>\n    </tr>\n    <tr>\n      <th>4</th>\n      <td>map</td>\n      <td>3.112</td>\n      <td>3.150</td>\n      <td>0.038</td>\n    </tr>\n    <tr>\n      <th>5</th>\n      <td>tc</td>\n      <td>19.820</td>\n      <td>19.713</td>\n      <td>-0.107</td>\n    </tr>\n    <tr>\n      <th>6</th>\n      <td>ldl</td>\n      <td>16.126</td>\n      <td>15.819</td>\n      <td>-0.307</td>\n    </tr>\n    <tr>\n      <th>7</th>\n      <td>hdl</td>\n      <td>10.109</td>\n      <td>9.956</td>\n      <td>-0.153</td>\n    </tr>\n    <tr>\n      <th>8</th>\n      <td>tch</td>\n      <td>7.681</td>\n      <td>7.805</td>\n      <td>0.124</td>\n    </tr>\n    <tr>\n      <th>9</th>\n      <td>ltg</td>\n      <td>8.177</td>\n      <td>7.781</td>\n      <td>-0.396</td>\n    </tr>\n    <tr>\n      <th>10</th>\n      <td>glu</td>\n      <td>3.139</td>\n      <td>2.985</td>\n      <td>-0.154</td>\n    </tr>\n  </tbody>\n</table>\n</div>"
     },
     "execution_count": 70,
     "metadata": {},
     "output_type": "execute_result"
    }
   ],
   "source": [
    "#Modeling the standard errors of the coefficients\n",
    "n_bootstraps = 1000\n",
    "\n",
    "bootstrap_coefsb = np.zeros((n_bootstraps, betes.shape[1] - 1))  # Coefficients, excluding intercept\n",
    "modelb = LinearRegression()\n",
    "scalerb = StandardScaler()\n",
    "\n",
    "for i in range(n_bootstraps):\n",
    "    bootstrap_sampleb = betes.sample(n=betes.shape[0], replace=True)\n",
    "    X_sampleb = bootstrap_sampleb.iloc[:, :-1]  \n",
    "    y_sampleb = bootstrap_sampleb.iloc[:, -1]  \n",
    "    X_standardizedb = scalerb.fit_transform(X_sampleb)\n",
    "\n",
    "    modelb.fit(X_standardizedb, y_sampleb)\n",
    "\n",
    "    bootstrap_coefsb[i, :] = modelb.coef_  \n",
    "\n",
    "linreg_standard_errors = np.std(bootstrap_coefsb, axis=0)\n",
    "\n",
    "# Compare the standard errors from OLS and linear regression in Table 1\n",
    "OLS_se = pd.DataFrame({'OLS SE': [2.576, 2.842 , 2.912, 3.165, 3.112, 19.820, 16.126, 10.109, 7.681, 8.177, 3.139]})\n",
    "linreg_se = pd.DataFrame({'LinReg SE': linreg_standard_errors}).round(3)\n",
    "variables_list = ['const'] + list(betes.columns[1:-1])\n",
    "column_names_df = pd.DataFrame({'Variable': variables_list})\n",
    "std_comparisonb = pd.concat([column_names_df, OLS_se, linreg_se], axis=1)\n",
    "std_comparisonb['SE_Change'] = round((std_comparisonb['LinReg SE'] - std_comparisonb['OLS SE']), 3)\n",
    "\n",
    "print(f'Table 1')\n",
    "std_comparisonb"
   ],
   "metadata": {
    "collapsed": false,
    "ExecuteTime": {
     "end_time": "2024-04-06T01:56:56.635224Z",
     "start_time": "2024-04-06T01:56:54.617175Z"
    }
   },
   "id": "7b274fc534f6dc26",
   "execution_count": 70
  },
  {
   "cell_type": "markdown",
   "source": [
    "In most cases, bootstrapping the standard errors of the coefficients in linear regression results in a lower standard error than the OLS standard error. The lower standard errors represnts higher precision estimates with less uncertainty about the accuracy of coefficients. "
   ],
   "metadata": {
    "collapsed": false
   },
   "id": "ae27bcd8a563f69c"
  },
  {
   "cell_type": "markdown",
   "source": [
    "## Problem 1 c"
   ],
   "metadata": {
    "collapsed": false
   },
   "id": "66daf60c3349bc85"
  },
  {
   "cell_type": "code",
   "outputs": [
    {
     "name": "stdout",
     "output_type": "stream",
     "text": [
      "Table 2\n"
     ]
    },
    {
     "data": {
      "text/plain": "   Variable  OLS SE  LinReg SE  Ridge SE\n0     const   2.576      2.518     2.450\n1       age   2.842      2.775     2.774\n2       sex   2.912      2.782     2.835\n3       bmi   3.165      3.399     3.269\n4       map   3.112      3.187     3.168\n5        tc  19.820     19.185    16.952\n6       ldl  16.126     15.217    13.743\n7       hdl  10.109      9.646     8.641\n8       tch   7.681      7.323     7.464\n9       ltg   8.177      7.808     7.190\n10      glu   3.139      3.037     2.951",
      "text/html": "<div>\n<style scoped>\n    .dataframe tbody tr th:only-of-type {\n        vertical-align: middle;\n    }\n\n    .dataframe tbody tr th {\n        vertical-align: top;\n    }\n\n    .dataframe thead th {\n        text-align: right;\n    }\n</style>\n<table border=\"1\" class=\"dataframe\">\n  <thead>\n    <tr style=\"text-align: right;\">\n      <th></th>\n      <th>Variable</th>\n      <th>OLS SE</th>\n      <th>LinReg SE</th>\n      <th>Ridge SE</th>\n    </tr>\n  </thead>\n  <tbody>\n    <tr>\n      <th>0</th>\n      <td>const</td>\n      <td>2.576</td>\n      <td>2.518</td>\n      <td>2.450</td>\n    </tr>\n    <tr>\n      <th>1</th>\n      <td>age</td>\n      <td>2.842</td>\n      <td>2.775</td>\n      <td>2.774</td>\n    </tr>\n    <tr>\n      <th>2</th>\n      <td>sex</td>\n      <td>2.912</td>\n      <td>2.782</td>\n      <td>2.835</td>\n    </tr>\n    <tr>\n      <th>3</th>\n      <td>bmi</td>\n      <td>3.165</td>\n      <td>3.399</td>\n      <td>3.269</td>\n    </tr>\n    <tr>\n      <th>4</th>\n      <td>map</td>\n      <td>3.112</td>\n      <td>3.187</td>\n      <td>3.168</td>\n    </tr>\n    <tr>\n      <th>5</th>\n      <td>tc</td>\n      <td>19.820</td>\n      <td>19.185</td>\n      <td>16.952</td>\n    </tr>\n    <tr>\n      <th>6</th>\n      <td>ldl</td>\n      <td>16.126</td>\n      <td>15.217</td>\n      <td>13.743</td>\n    </tr>\n    <tr>\n      <th>7</th>\n      <td>hdl</td>\n      <td>10.109</td>\n      <td>9.646</td>\n      <td>8.641</td>\n    </tr>\n    <tr>\n      <th>8</th>\n      <td>tch</td>\n      <td>7.681</td>\n      <td>7.323</td>\n      <td>7.464</td>\n    </tr>\n    <tr>\n      <th>9</th>\n      <td>ltg</td>\n      <td>8.177</td>\n      <td>7.808</td>\n      <td>7.190</td>\n    </tr>\n    <tr>\n      <th>10</th>\n      <td>glu</td>\n      <td>3.139</td>\n      <td>3.037</td>\n      <td>2.951</td>\n    </tr>\n  </tbody>\n</table>\n</div>"
     },
     "execution_count": 65,
     "metadata": {},
     "output_type": "execute_result"
    }
   ],
   "source": [
    "#Using bootstrap to estimate the standard errors of the ridge coefficients\n",
    "alpha = 0.5\n",
    "\n",
    "bootstrap_coefsc = np.zeros((n_bootstraps, betes.shape[1] - 1))\n",
    "ridge_model = Ridge(alpha=alpha)\n",
    "scalerc = StandardScaler()\n",
    "\n",
    "for i in range(n_bootstraps):\n",
    "    bootstrap_sample = betes.sample(n=betes.shape[0], replace=True)\n",
    "    X_samplec = bootstrap_sample.iloc[:, :-1]\n",
    "    y_samplec = bootstrap_sample.iloc[:, -1]\n",
    "    X_standardizedc = scalerb.fit_transform(X_samplec)\n",
    "    \n",
    "    ridge_model.fit(X_standardizedc, y_samplec)\n",
    "    bootstrap_coefsc[i, :] = ridge_model.coef_\n",
    "\n",
    "#Collect the standard errors of the coefficients in Table 2\n",
    "ridge_standard_errors = np.std(bootstrap_coefsc, axis=0)\n",
    "ridge_standard_errors = pd.DataFrame(ridge_standard_errors, columns=['Ridge SE']).round(3)\n",
    "\n",
    "std_comparisonc = pd.concat([std_comparisonb, ridge_standard_errors], axis=1)\n",
    "std_comparisonc = std_comparisonc.drop('SE_Percent_Change', axis=1)\n",
    "\n",
    "print(f'Table 2')\n",
    "std_comparisonc"
   ],
   "metadata": {
    "collapsed": false,
    "ExecuteTime": {
     "end_time": "2024-04-06T01:51:32.787555Z",
     "start_time": "2024-04-06T01:51:30.591373Z"
    }
   },
   "id": "b5b3cfeac812902f",
   "execution_count": 65
  },
  {
   "cell_type": "markdown",
   "source": [
    "The ridge bootstrapped standard erros are lower than the OLS and LinReg standard errors in most cases. This is because ridge regression shrinks the coefficients towards zero, reducing the variance of the coefficients. "
   ],
   "metadata": {
    "collapsed": false
   },
   "id": "eec5873ec8990baf"
  },
  {
   "cell_type": "markdown",
   "source": [
    "\n",
    "## Problem 2 a"
   ],
   "metadata": {
    "collapsed": false
   },
   "id": "eeab3f5c0f984079"
  },
  {
   "cell_type": "code",
   "outputs": [
    {
     "data": {
      "text/plain": "   spam  testid  make  address   all   3d   our  over  remove  internet  ...  \\\n0  True    True  0.00     0.64  0.64  0.0  0.32  0.00    0.00      0.00  ...   \n1  True   False  0.21     0.28  0.50  0.0  0.14  0.28    0.21      0.07  ...   \n2  True    True  0.06     0.00  0.71  0.0  1.23  0.19    0.19      0.12  ...   \n3  True   False  0.00     0.00  0.00  0.0  0.63  0.00    0.31      0.63  ...   \n4  True   False  0.00     0.00  0.00  0.0  0.63  0.00    0.31      0.63  ...   \n\n   conference   ch;    ch(  ch[    ch!    ch$    ch#  crl.ave  crl.long  \\\n0         0.0  0.00  0.000  0.0  0.778  0.000  0.000    3.756        61   \n1         0.0  0.00  0.132  0.0  0.372  0.180  0.048    5.114       101   \n2         0.0  0.01  0.143  0.0  0.276  0.184  0.010    9.821       485   \n3         0.0  0.00  0.137  0.0  0.137  0.000  0.000    3.537        40   \n4         0.0  0.00  0.135  0.0  0.135  0.000  0.000    3.537        40   \n\n   crl.tot  \n0      278  \n1     1028  \n2     2259  \n3      191  \n4      191  \n\n[5 rows x 59 columns]",
      "text/html": "<div>\n<style scoped>\n    .dataframe tbody tr th:only-of-type {\n        vertical-align: middle;\n    }\n\n    .dataframe tbody tr th {\n        vertical-align: top;\n    }\n\n    .dataframe thead th {\n        text-align: right;\n    }\n</style>\n<table border=\"1\" class=\"dataframe\">\n  <thead>\n    <tr style=\"text-align: right;\">\n      <th></th>\n      <th>spam</th>\n      <th>testid</th>\n      <th>make</th>\n      <th>address</th>\n      <th>all</th>\n      <th>3d</th>\n      <th>our</th>\n      <th>over</th>\n      <th>remove</th>\n      <th>internet</th>\n      <th>...</th>\n      <th>conference</th>\n      <th>ch;</th>\n      <th>ch(</th>\n      <th>ch[</th>\n      <th>ch!</th>\n      <th>ch$</th>\n      <th>ch#</th>\n      <th>crl.ave</th>\n      <th>crl.long</th>\n      <th>crl.tot</th>\n    </tr>\n  </thead>\n  <tbody>\n    <tr>\n      <th>0</th>\n      <td>True</td>\n      <td>True</td>\n      <td>0.00</td>\n      <td>0.64</td>\n      <td>0.64</td>\n      <td>0.0</td>\n      <td>0.32</td>\n      <td>0.00</td>\n      <td>0.00</td>\n      <td>0.00</td>\n      <td>...</td>\n      <td>0.0</td>\n      <td>0.00</td>\n      <td>0.000</td>\n      <td>0.0</td>\n      <td>0.778</td>\n      <td>0.000</td>\n      <td>0.000</td>\n      <td>3.756</td>\n      <td>61</td>\n      <td>278</td>\n    </tr>\n    <tr>\n      <th>1</th>\n      <td>True</td>\n      <td>False</td>\n      <td>0.21</td>\n      <td>0.28</td>\n      <td>0.50</td>\n      <td>0.0</td>\n      <td>0.14</td>\n      <td>0.28</td>\n      <td>0.21</td>\n      <td>0.07</td>\n      <td>...</td>\n      <td>0.0</td>\n      <td>0.00</td>\n      <td>0.132</td>\n      <td>0.0</td>\n      <td>0.372</td>\n      <td>0.180</td>\n      <td>0.048</td>\n      <td>5.114</td>\n      <td>101</td>\n      <td>1028</td>\n    </tr>\n    <tr>\n      <th>2</th>\n      <td>True</td>\n      <td>True</td>\n      <td>0.06</td>\n      <td>0.00</td>\n      <td>0.71</td>\n      <td>0.0</td>\n      <td>1.23</td>\n      <td>0.19</td>\n      <td>0.19</td>\n      <td>0.12</td>\n      <td>...</td>\n      <td>0.0</td>\n      <td>0.01</td>\n      <td>0.143</td>\n      <td>0.0</td>\n      <td>0.276</td>\n      <td>0.184</td>\n      <td>0.010</td>\n      <td>9.821</td>\n      <td>485</td>\n      <td>2259</td>\n    </tr>\n    <tr>\n      <th>3</th>\n      <td>True</td>\n      <td>False</td>\n      <td>0.00</td>\n      <td>0.00</td>\n      <td>0.00</td>\n      <td>0.0</td>\n      <td>0.63</td>\n      <td>0.00</td>\n      <td>0.31</td>\n      <td>0.63</td>\n      <td>...</td>\n      <td>0.0</td>\n      <td>0.00</td>\n      <td>0.137</td>\n      <td>0.0</td>\n      <td>0.137</td>\n      <td>0.000</td>\n      <td>0.000</td>\n      <td>3.537</td>\n      <td>40</td>\n      <td>191</td>\n    </tr>\n    <tr>\n      <th>4</th>\n      <td>True</td>\n      <td>False</td>\n      <td>0.00</td>\n      <td>0.00</td>\n      <td>0.00</td>\n      <td>0.0</td>\n      <td>0.63</td>\n      <td>0.00</td>\n      <td>0.31</td>\n      <td>0.63</td>\n      <td>...</td>\n      <td>0.0</td>\n      <td>0.00</td>\n      <td>0.135</td>\n      <td>0.0</td>\n      <td>0.135</td>\n      <td>0.000</td>\n      <td>0.000</td>\n      <td>3.537</td>\n      <td>40</td>\n      <td>191</td>\n    </tr>\n  </tbody>\n</table>\n<p>5 rows × 59 columns</p>\n</div>"
     },
     "execution_count": 50,
     "metadata": {},
     "output_type": "execute_result"
    }
   ],
   "source": [
    "spam_path = r'C:\\Users\\wetzl\\Desktop\\Python\\SSEcon\\Data\\SPAM.csv'\n",
    "spam = pd.read_csv(spam_path)\n",
    "spam.head() #SPAM IS Y"
   ],
   "metadata": {
    "collapsed": false,
    "ExecuteTime": {
     "end_time": "2024-04-06T01:33:20.506645Z",
     "start_time": "2024-04-06T01:33:20.459580Z"
    }
   },
   "id": "773b9e3c83b2da2e",
   "execution_count": 50
  },
  {
   "cell_type": "code",
   "outputs": [
    {
     "name": "stdout",
     "output_type": "stream",
     "text": [
      "Best max_leaf_nodes: 86\n",
      "Best Cross-Validation Score: 0.9270\n",
      "CV Scores for Best Model: [0.93926247 0.90434783 0.93695652 0.93478261 0.91086957 0.91956522\n",
      " 0.90652174 0.94130435 0.9326087  0.94347826]\n",
      "CV Scores Mean: 0.9270\n",
      "CV Scores Std: 0.0144\n"
     ]
    }
   ],
   "source": [
    "y = spam.iloc[:, 0]  \n",
    "X = spam.iloc[:, 1:] \n",
    "\n",
    "# Convert boolean target into integer \n",
    "y = y.astype(int)\n",
    "\n",
    "dtree = DecisionTreeClassifier(random_state=42)\n",
    "\n",
    "kfold = KFold(n_splits=10, shuffle=True, random_state=42)\n",
    "\n",
    "# Define a range of \"max_leaf_nodes\" to search for the best performance\n",
    "param_grid = {'max_leaf_nodes': list(range(2, 100))}\n",
    "\n",
    "# Set up GridSearchCV to find the best \"max_leaf_nodes\"\n",
    "grid_search = GridSearchCV(dtree, param_grid, cv=kfold, scoring='accuracy')\n",
    "\n",
    "# Perform grid search on data\n",
    "grid_search.fit(X, y)\n",
    "\n",
    "# Perform cross-validation on the best model and print results\n",
    "best_tree_model = grid_search.best_estimator_\n",
    "best_max_leaf_nodes = grid_search.best_params_['max_leaf_nodes']\n",
    "best_cross_val_score = grid_search.best_score_\n",
    "\n",
    "print(f'Best max_leaf_nodes: {best_max_leaf_nodes}')\n",
    "print(f'Best Cross-Validation Score: {best_cross_val_score:.4f}')\n",
    "\n",
    "cv_scores = cross_val_score(best_tree_model, X, y, cv=kfold)\n",
    "\n",
    "print(f'CV Scores for Best Model: {cv_scores}')\n",
    "print(f'CV Scores Mean: {np.mean(cv_scores):.4f}')\n",
    "print(f'CV Scores Std: {np.std(cv_scores):.4f}')"
   ],
   "metadata": {
    "collapsed": false,
    "ExecuteTime": {
     "end_time": "2024-04-06T02:11:55.882789Z",
     "start_time": "2024-04-06T02:11:19.646198Z"
    }
   },
   "id": "f4272d9966ebdce1",
   "execution_count": 71
  },
  {
   "cell_type": "markdown",
   "source": [
    "## Problem 2 b"
   ],
   "metadata": {
    "collapsed": false
   },
   "id": "ece8c7d4684531db"
  },
  {
   "cell_type": "code",
   "outputs": [
    {
     "name": "stdout",
     "output_type": "stream",
     "text": [
      "Best C for Logistic Regression: 1.623776739188721\n",
      "Best Cross-Validation Score for Logistic Regression: 0.9291\n",
      "CV Scores for Best Logistic Regression Model: [0.92407809 0.92391304 0.93913043 0.92391304 0.91521739 0.94347826\n",
      " 0.92173913 0.94565217 0.92608696 0.92826087]\n",
      "CV Scores Mean for Logistic Regression: 0.9291\n",
      "CV Scores Std for Logistic Regression: 0.0096\n",
      "\n",
      "Comparison of Tree and Logistic Regression Models:\n",
      "Tree Model Best CV Score: 0.9270\n",
      "Logistic Regression Model Best CV Score: 0.9291\n"
     ]
    }
   ],
   "source": [
    "logistic = LogisticRegression(penalty='l1', solver='liblinear', random_state=42)\n",
    "\n",
    "# Define a range for C (inverse of regularization strength)\n",
    "C_range = np.logspace(-4, 4, 20)\n",
    "\n",
    "# Set up GridSearchCV to find the best C value\n",
    "grid_search_logistic = GridSearchCV(logistic, {'C': C_range}, cv=kfold, scoring='accuracy')\n",
    "grid_search_logistic.fit(X, y)\n",
    "\n",
    "# Get the best model and C value\n",
    "best_logistic_model = grid_search_logistic.best_estimator_\n",
    "best_C = grid_search_logistic.best_params_['C']\n",
    "best_logistic_score = grid_search_logistic.best_score_\n",
    "\n",
    "print(f'Best C for Logistic Regression: {best_C}')\n",
    "print(f'Best Cross-Validation Score for Logistic Regression: {best_logistic_score:.4f}')\n",
    "\n",
    "# Perform cross-validation on the best Logistic Regression model and print results\n",
    "cv_scores_logistic = cross_val_score(best_logistic_model, X, y, cv=kfold)\n",
    "\n",
    "print(f'CV Scores for Best Logistic Regression Model: {cv_scores_logistic}')\n",
    "print(f'CV Scores Mean for Logistic Regression: {np.mean(cv_scores_logistic):.4f}')\n",
    "print(f'CV Scores Std for Logistic Regression: {np.std(cv_scores_logistic):.4f}')\n",
    "\n",
    "# Compare\n",
    "print(f'\\nComparison of Tree and Logistic Regression Models:')\n",
    "print(f'Tree Model Best CV Score: {best_cross_val_score:.4f}')\n",
    "print(f'Logistic Regression Model Best CV Score: {best_logistic_score:.4f}')\n"
   ],
   "metadata": {
    "collapsed": false,
    "ExecuteTime": {
     "end_time": "2024-04-06T02:21:59.007284Z",
     "start_time": "2024-04-06T02:21:55.900869Z"
    }
   },
   "id": "411593db93ed0c76",
   "execution_count": 76
  },
  {
   "cell_type": "markdown",
   "source": [
    "## Problem 3 a"
   ],
   "metadata": {
    "collapsed": false
   },
   "id": "c928dba941716e4b"
  },
  {
   "cell_type": "code",
   "outputs": [
    {
     "data": {
      "text/plain": "        E1     E2     E3     E4     E5     E6     E7     E8     E9    E10  \\\nSN1 -0.839 -0.927  0.320  0.176 -0.676 -1.272  0.342 -0.427 -0.016 -0.298   \nSN2 -1.892 -0.455  2.407  0.766 -0.944 -1.527  0.088  0.261  0.185 -0.537   \nSN3  0.264 -0.803  1.141 -0.863  0.685 -0.354 -1.038 -1.098 -1.319 -1.695   \nSN4 -0.083  1.023 -0.206 -1.115 -0.863  0.715  0.616  0.564  0.615 -0.488   \nSN5  0.411 -0.807 -0.129  1.315 -0.647  0.299 -0.822 -1.534 -1.486 -1.087   \n\n     Magnitude  \nSN1     -0.543  \nSN2      2.124  \nSN3     -0.217  \nSN4      0.946  \nSN5     -3.746  ",
      "text/html": "<div>\n<style scoped>\n    .dataframe tbody tr th:only-of-type {\n        vertical-align: middle;\n    }\n\n    .dataframe tbody tr th {\n        vertical-align: top;\n    }\n\n    .dataframe thead th {\n        text-align: right;\n    }\n</style>\n<table border=\"1\" class=\"dataframe\">\n  <thead>\n    <tr style=\"text-align: right;\">\n      <th></th>\n      <th>E1</th>\n      <th>E2</th>\n      <th>E3</th>\n      <th>E4</th>\n      <th>E5</th>\n      <th>E6</th>\n      <th>E7</th>\n      <th>E8</th>\n      <th>E9</th>\n      <th>E10</th>\n      <th>Magnitude</th>\n    </tr>\n  </thead>\n  <tbody>\n    <tr>\n      <th>SN1</th>\n      <td>-0.839</td>\n      <td>-0.927</td>\n      <td>0.320</td>\n      <td>0.176</td>\n      <td>-0.676</td>\n      <td>-1.272</td>\n      <td>0.342</td>\n      <td>-0.427</td>\n      <td>-0.016</td>\n      <td>-0.298</td>\n      <td>-0.543</td>\n    </tr>\n    <tr>\n      <th>SN2</th>\n      <td>-1.892</td>\n      <td>-0.455</td>\n      <td>2.407</td>\n      <td>0.766</td>\n      <td>-0.944</td>\n      <td>-1.527</td>\n      <td>0.088</td>\n      <td>0.261</td>\n      <td>0.185</td>\n      <td>-0.537</td>\n      <td>2.124</td>\n    </tr>\n    <tr>\n      <th>SN3</th>\n      <td>0.264</td>\n      <td>-0.803</td>\n      <td>1.141</td>\n      <td>-0.863</td>\n      <td>0.685</td>\n      <td>-0.354</td>\n      <td>-1.038</td>\n      <td>-1.098</td>\n      <td>-1.319</td>\n      <td>-1.695</td>\n      <td>-0.217</td>\n    </tr>\n    <tr>\n      <th>SN4</th>\n      <td>-0.083</td>\n      <td>1.023</td>\n      <td>-0.206</td>\n      <td>-1.115</td>\n      <td>-0.863</td>\n      <td>0.715</td>\n      <td>0.616</td>\n      <td>0.564</td>\n      <td>0.615</td>\n      <td>-0.488</td>\n      <td>0.946</td>\n    </tr>\n    <tr>\n      <th>SN5</th>\n      <td>0.411</td>\n      <td>-0.807</td>\n      <td>-0.129</td>\n      <td>1.315</td>\n      <td>-0.647</td>\n      <td>0.299</td>\n      <td>-0.822</td>\n      <td>-1.534</td>\n      <td>-1.486</td>\n      <td>-1.087</td>\n      <td>-3.746</td>\n    </tr>\n  </tbody>\n</table>\n</div>"
     },
     "execution_count": 52,
     "metadata": {},
     "output_type": "execute_result"
    }
   ],
   "source": [
    "nova_path = r'C:\\Users\\wetzl\\Desktop\\Python\\SSEcon\\Data\\supernova.txt'\n",
    "nova = (pd.read_csv(nova_path, delimiter = ' '))\n",
    "nova.head()"
   ],
   "metadata": {
    "collapsed": false,
    "ExecuteTime": {
     "end_time": "2024-04-06T01:33:56.414495Z",
     "start_time": "2024-04-06T01:33:56.385964Z"
    }
   },
   "id": "5046b63f48505ffa",
   "execution_count": 52
  },
  {
   "cell_type": "code",
   "outputs": [
    {
     "name": "stdout",
     "output_type": "stream",
     "text": [
      "                            OLS Regression Results                            \n",
      "==============================================================================\n",
      "Dep. Variable:              Magnitude   R-squared:                       0.816\n",
      "Model:                            OLS   Adj. R-squared:                  0.751\n",
      "Method:                 Least Squares   F-statistic:                     12.44\n",
      "Date:                Fri, 05 Apr 2024   Prob (F-statistic):           7.18e-08\n",
      "Time:                        21:33:56   Log-Likelihood:                -48.898\n",
      "No. Observations:                  39   AIC:                             119.8\n",
      "Df Residuals:                      28   BIC:                             138.1\n",
      "Df Model:                          10                                         \n",
      "Covariance Type:            nonrobust                                         \n",
      "==============================================================================\n",
      "                 coef    std err          t      P>|t|      [0.025      0.975]\n",
      "------------------------------------------------------------------------------\n",
      "const       6.821e-05      0.160      0.000      1.000      -0.328       0.328\n",
      "E1            -0.3455      0.350     -0.988      0.331      -1.062       0.371\n",
      "E2             0.4906      0.485      1.011      0.321      -0.503       1.484\n",
      "E3            -0.0919      0.480     -0.191      0.850      -1.075       0.891\n",
      "E4            -0.4344      0.436     -0.996      0.328      -1.327       0.459\n",
      "E5            -0.1052      0.304     -0.346      0.732      -0.728       0.518\n",
      "E6            -0.5599      0.601     -0.932      0.359      -1.791       0.671\n",
      "E7             0.9186      0.646      1.423      0.166      -0.404       2.241\n",
      "E8            -0.0375      0.645     -0.058      0.954      -1.359       1.284\n",
      "E9             0.3240      0.775      0.418      0.679      -1.264       1.912\n",
      "E10            0.0166      0.476      0.035      0.972      -0.958       0.991\n",
      "==============================================================================\n",
      "Omnibus:                        2.153   Durbin-Watson:                   2.068\n",
      "Prob(Omnibus):                  0.341   Jarque-Bera (JB):                1.666\n",
      "Skew:                           0.333   Prob(JB):                        0.435\n",
      "Kurtosis:                       2.237   Cond. No.                         15.6\n",
      "==============================================================================\n",
      "\n",
      "Notes:\n",
      "[1] Standard Errors assume that the covariance matrix of the errors is correctly specified.\n"
     ]
    }
   ],
   "source": [
    "X3a = nova.iloc[:, :-1]\n",
    "y3a = nova['Magnitude']\n",
    "\n",
    "X3a_w_const = sm.add_constant(X3a)\n",
    "model3a = sm.OLS(y3a, X3a_w_const).fit()\n",
    "print(model3a.summary())"
   ],
   "metadata": {
    "collapsed": false,
    "ExecuteTime": {
     "end_time": "2024-04-06T01:33:56.434196Z",
     "start_time": "2024-04-06T01:33:56.415499Z"
    }
   },
   "id": "3c945a5e1d3a2a78",
   "execution_count": 53
  },
  {
   "cell_type": "code",
   "outputs": [
    {
     "data": {
      "text/plain": "<Figure size 640x480 with 1 Axes>",
      "image/png": "[encoded data removed]"
     },
     "metadata": {},
     "output_type": "display_data"
    }
   ],
   "source": [
    "#plot predicted y's against actual y's\n",
    "y3a_pred = model3a.predict(X3a_w_const)\n",
    "plt.scatter(y3a_pred, y3a)\n",
    "plt.xlabel('Predicted Magnitude')\n",
    "plt.ylabel('Absolute Magnitude')\n",
    "plt.title('Predicted vs. Actual Magnitude')\n",
    "plt.show()"
   ],
   "metadata": {
    "collapsed": false,
    "ExecuteTime": {
     "end_time": "2024-04-06T01:33:56.687790Z",
     "start_time": "2024-04-06T01:33:56.435192Z"
    }
   },
   "id": "6429353e46bcb018",
   "execution_count": 54
  },
  {
   "cell_type": "markdown",
   "source": [
    "## Problem 3 b"
   ],
   "metadata": {
    "collapsed": false
   },
   "id": "1482233a383e424c"
  },
  {
   "cell_type": "code",
   "outputs": [
    {
     "name": "stdout",
     "output_type": "stream",
     "text": [
      "                            OLS Regression Results                            \n",
      "==============================================================================\n",
      "Dep. Variable:              Magnitude   R-squared:                       0.806\n",
      "Model:                            OLS   Adj. R-squared:                  0.777\n",
      "Method:                 Least Squares   F-statistic:                     27.50\n",
      "Date:                Fri, 05 Apr 2024   Prob (F-statistic):           7.09e-11\n",
      "Time:                        21:33:56   Log-Likelihood:                -49.920\n",
      "No. Observations:                  39   AIC:                             111.8\n",
      "Df Residuals:                      33   BIC:                             121.8\n",
      "Df Model:                           5                                         \n",
      "Covariance Type:            nonrobust                                         \n",
      "==============================================================================\n",
      "                 coef    std err          t      P>|t|      [0.025      0.975]\n",
      "------------------------------------------------------------------------------\n",
      "const        5.74e-05      0.151      0.000      1.000      -0.308       0.308\n",
      "E1            -0.2782      0.294     -0.945      0.352      -0.877       0.321\n",
      "E2             0.6187      0.289      2.140      0.040       0.030       1.207\n",
      "E4            -0.4019      0.240     -1.677      0.103      -0.889       0.086\n",
      "E6            -0.7818      0.274     -2.850      0.007      -1.340      -0.224\n",
      "E7             1.1733      0.376      3.118      0.004       0.408       1.939\n",
      "==============================================================================\n",
      "Omnibus:                        1.425   Durbin-Watson:                   2.190\n",
      "Prob(Omnibus):                  0.490   Jarque-Bera (JB):                1.040\n",
      "Skew:                           0.089   Prob(JB):                        0.595\n",
      "Kurtosis:                       2.220   Cond. No.                         5.58\n",
      "==============================================================================\n",
      "\n",
      "Notes:\n",
      "[1] Standard Errors assume that the covariance matrix of the errors is correctly specified.\n"
     ]
    }
   ],
   "source": [
    "coefficients = model3a.params\n",
    "abs_coefficients = coefficients.abs()\n",
    "\n",
    "smallest_predictors = abs_coefficients.sort_values().head(6).index\n",
    "smallest_predictors = smallest_predictors.drop('const')\n",
    "X3a_reduced = X3a.drop(columns=smallest_predictors)\n",
    "\n",
    "X3a_reduced_w_const = sm.add_constant(X3a_reduced)\n",
    "reduced_model3a = sm.OLS(y3a, X3a_reduced_w_const).fit()\n",
    "\n",
    "print(reduced_model3a.summary())"
   ],
   "metadata": {
    "collapsed": false,
    "ExecuteTime": {
     "end_time": "2024-04-06T01:33:56.707641Z",
     "start_time": "2024-04-06T01:33:56.688793Z"
    }
   },
   "id": "dc5390b724642e81",
   "execution_count": 55
  },
  {
   "cell_type": "markdown",
   "source": [
    "## Problem 3 c"
   ],
   "metadata": {
    "collapsed": false
   },
   "id": "469822b8217031db"
  },
  {
   "cell_type": "code",
   "outputs": [
    {
     "data": {
      "text/plain": "                    Initial Model  Reduced Model\nRSS                     28.029899      29.537619\nMSE                      0.718715       0.757375\nR-squared                0.816333       0.806454\nAdjusted R-squared       0.750738       0.777129",
      "text/html": "<div>\n<style scoped>\n    .dataframe tbody tr th:only-of-type {\n        vertical-align: middle;\n    }\n\n    .dataframe tbody tr th {\n        vertical-align: top;\n    }\n\n    .dataframe thead th {\n        text-align: right;\n    }\n</style>\n<table border=\"1\" class=\"dataframe\">\n  <thead>\n    <tr style=\"text-align: right;\">\n      <th></th>\n      <th>Initial Model</th>\n      <th>Reduced Model</th>\n    </tr>\n  </thead>\n  <tbody>\n    <tr>\n      <th>RSS</th>\n      <td>28.029899</td>\n      <td>29.537619</td>\n    </tr>\n    <tr>\n      <th>MSE</th>\n      <td>0.718715</td>\n      <td>0.757375</td>\n    </tr>\n    <tr>\n      <th>R-squared</th>\n      <td>0.816333</td>\n      <td>0.806454</td>\n    </tr>\n    <tr>\n      <th>Adjusted R-squared</th>\n      <td>0.750738</td>\n      <td>0.777129</td>\n    </tr>\n  </tbody>\n</table>\n</div>"
     },
     "execution_count": 56,
     "metadata": {},
     "output_type": "execute_result"
    }
   ],
   "source": [
    "# For the initial model with all predictors\n",
    "model3a_predictions = model3a.predict(X3a_w_const)\n",
    "model3a_residuals = y3a - model3a_predictions\n",
    "i3a_RSS = (model3a_residuals**2).sum()\n",
    "i3a_MSE = (model3a_residuals**2).mean()\n",
    "\n",
    "# For the reduced model with top 5 predictors\n",
    "reduced_predictions = reduced_model3a.predict(X3a_reduced_w_const)\n",
    "reduced_residuals = y3a - reduced_predictions\n",
    "reduced_RSS = (reduced_residuals**2).sum()\n",
    "reduced_MSE = (reduced_residuals**2).mean()\n",
    "\n",
    "Comparison_3a = pd.DataFrame({\n",
    "    'Initial Model': {\n",
    "        'RSS': i3a_RSS,\n",
    "        'MSE': i3a_MSE,\n",
    "        'R-squared': model3a.rsquared,\n",
    "        'Adjusted R-squared': model3a.rsquared_adj\n",
    "    },\n",
    "    'Reduced Model': {\n",
    "        'RSS': reduced_RSS,\n",
    "        'MSE': reduced_MSE,\n",
    "        'R-squared': reduced_model3a.rsquared,\n",
    "        'Adjusted R-squared': reduced_model3a.rsquared_adj\n",
    "    }\n",
    "})\n",
    "\n",
    "Comparison_3a"
   ],
   "metadata": {
    "collapsed": false,
    "ExecuteTime": {
     "end_time": "2024-04-06T01:33:56.724353Z",
     "start_time": "2024-04-06T01:33:56.708646Z"
    }
   },
   "id": "8f6efd2d6075461b",
   "execution_count": 56
  },
  {
   "cell_type": "markdown",
   "source": [
    "While the initial model has better RSS, MSE, and R-Suared values, the reduced model has a higher adjusted R-squared value. This indicates that the predictors eliminated may have been insignificant and were not adding much value to the initial model. While the initial model may have been over-fitting, the reduced model is more parsimonious and may generalize better to new data despite discrepancies in the RSS and MSE values."
   ],
   "metadata": {
    "collapsed": false
   },
   "id": "1dfe4ab745407ec6"
  },
  {
   "cell_type": "markdown",
   "source": [
    "## Problem 4 a"
   ],
   "metadata": {
    "collapsed": false
   },
   "id": "a8eeda763a970453"
  },
  {
   "cell_type": "code",
   "outputs": [
    {
     "name": "stdout",
     "output_type": "stream",
     "text": [
      "Initial Model LOOCV Error: 1.0342284916015783\n",
      "Reduced Model LOOCV Error: 0.8840251088525131\n"
     ]
    },
    {
     "name": "stderr",
     "output_type": "stream",
     "text": [
      "C:\\Users\\wetzl\\AppData\\Local\\Programs\\Python\\Python311\\Lib\\site-packages\\sklearn\\metrics\\_regression.py:483: FutureWarning: 'squared' is deprecated in version 1.4 and will be removed in 1.6. To calculate the root mean squared error, use the function'root_mean_squared_error'.\n",
      "  warnings.warn(\n",
      "C:\\Users\\wetzl\\AppData\\Local\\Programs\\Python\\Python311\\Lib\\site-packages\\sklearn\\metrics\\_regression.py:483: FutureWarning: 'squared' is deprecated in version 1.4 and will be removed in 1.6. To calculate the root mean squared error, use the function'root_mean_squared_error'.\n",
      "  warnings.warn(\n",
      "C:\\Users\\wetzl\\AppData\\Local\\Programs\\Python\\Python311\\Lib\\site-packages\\sklearn\\metrics\\_regression.py:483: FutureWarning: 'squared' is deprecated in version 1.4 and will be removed in 1.6. To calculate the root mean squared error, use the function'root_mean_squared_error'.\n",
      "  warnings.warn(\n",
      "C:\\Users\\wetzl\\AppData\\Local\\Programs\\Python\\Python311\\Lib\\site-packages\\sklearn\\metrics\\_regression.py:483: FutureWarning: 'squared' is deprecated in version 1.4 and will be removed in 1.6. To calculate the root mean squared error, use the function'root_mean_squared_error'.\n",
      "  warnings.warn(\n",
      "C:\\Users\\wetzl\\AppData\\Local\\Programs\\Python\\Python311\\Lib\\site-packages\\sklearn\\metrics\\_regression.py:483: FutureWarning: 'squared' is deprecated in version 1.4 and will be removed in 1.6. To calculate the root mean squared error, use the function'root_mean_squared_error'.\n",
      "  warnings.warn(\n",
      "C:\\Users\\wetzl\\AppData\\Local\\Programs\\Python\\Python311\\Lib\\site-packages\\sklearn\\metrics\\_regression.py:483: FutureWarning: 'squared' is deprecated in version 1.4 and will be removed in 1.6. To calculate the root mean squared error, use the function'root_mean_squared_error'.\n",
      "  warnings.warn(\n",
      "C:\\Users\\wetzl\\AppData\\Local\\Programs\\Python\\Python311\\Lib\\site-packages\\sklearn\\metrics\\_regression.py:483: FutureWarning: 'squared' is deprecated in version 1.4 and will be removed in 1.6. To calculate the root mean squared error, use the function'root_mean_squared_error'.\n",
      "  warnings.warn(\n",
      "C:\\Users\\wetzl\\AppData\\Local\\Programs\\Python\\Python311\\Lib\\site-packages\\sklearn\\metrics\\_regression.py:483: FutureWarning: 'squared' is deprecated in version 1.4 and will be removed in 1.6. To calculate the root mean squared error, use the function'root_mean_squared_error'.\n",
      "  warnings.warn(\n",
      "C:\\Users\\wetzl\\AppData\\Local\\Programs\\Python\\Python311\\Lib\\site-packages\\sklearn\\metrics\\_regression.py:483: FutureWarning: 'squared' is deprecated in version 1.4 and will be removed in 1.6. To calculate the root mean squared error, use the function'root_mean_squared_error'.\n",
      "  warnings.warn(\n",
      "C:\\Users\\wetzl\\AppData\\Local\\Programs\\Python\\Python311\\Lib\\site-packages\\sklearn\\metrics\\_regression.py:483: FutureWarning: 'squared' is deprecated in version 1.4 and will be removed in 1.6. To calculate the root mean squared error, use the function'root_mean_squared_error'.\n",
      "  warnings.warn(\n",
      "C:\\Users\\wetzl\\AppData\\Local\\Programs\\Python\\Python311\\Lib\\site-packages\\sklearn\\metrics\\_regression.py:483: FutureWarning: 'squared' is deprecated in version 1.4 and will be removed in 1.6. To calculate the root mean squared error, use the function'root_mean_squared_error'.\n",
      "  warnings.warn(\n",
      "C:\\Users\\wetzl\\AppData\\Local\\Programs\\Python\\Python311\\Lib\\site-packages\\sklearn\\metrics\\_regression.py:483: FutureWarning: 'squared' is deprecated in version 1.4 and will be removed in 1.6. To calculate the root mean squared error, use the function'root_mean_squared_error'.\n",
      "  warnings.warn(\n",
      "C:\\Users\\wetzl\\AppData\\Local\\Programs\\Python\\Python311\\Lib\\site-packages\\sklearn\\metrics\\_regression.py:483: FutureWarning: 'squared' is deprecated in version 1.4 and will be removed in 1.6. To calculate the root mean squared error, use the function'root_mean_squared_error'.\n",
      "  warnings.warn(\n",
      "C:\\Users\\wetzl\\AppData\\Local\\Programs\\Python\\Python311\\Lib\\site-packages\\sklearn\\metrics\\_regression.py:483: FutureWarning: 'squared' is deprecated in version 1.4 and will be removed in 1.6. To calculate the root mean squared error, use the function'root_mean_squared_error'.\n",
      "  warnings.warn(\n",
      "C:\\Users\\wetzl\\AppData\\Local\\Programs\\Python\\Python311\\Lib\\site-packages\\sklearn\\metrics\\_regression.py:483: FutureWarning: 'squared' is deprecated in version 1.4 and will be removed in 1.6. To calculate the root mean squared error, use the function'root_mean_squared_error'.\n",
      "  warnings.warn(\n",
      "C:\\Users\\wetzl\\AppData\\Local\\Programs\\Python\\Python311\\Lib\\site-packages\\sklearn\\metrics\\_regression.py:483: FutureWarning: 'squared' is deprecated in version 1.4 and will be removed in 1.6. To calculate the root mean squared error, use the function'root_mean_squared_error'.\n",
      "  warnings.warn(\n",
      "C:\\Users\\wetzl\\AppData\\Local\\Programs\\Python\\Python311\\Lib\\site-packages\\sklearn\\metrics\\_regression.py:483: FutureWarning: 'squared' is deprecated in version 1.4 and will be removed in 1.6. To calculate the root mean squared error, use the function'root_mean_squared_error'.\n",
      "  warnings.warn(\n",
      "C:\\Users\\wetzl\\AppData\\Local\\Programs\\Python\\Python311\\Lib\\site-packages\\sklearn\\metrics\\_regression.py:483: FutureWarning: 'squared' is deprecated in version 1.4 and will be removed in 1.6. To calculate the root mean squared error, use the function'root_mean_squared_error'.\n",
      "  warnings.warn(\n",
      "C:\\Users\\wetzl\\AppData\\Local\\Programs\\Python\\Python311\\Lib\\site-packages\\sklearn\\metrics\\_regression.py:483: FutureWarning: 'squared' is deprecated in version 1.4 and will be removed in 1.6. To calculate the root mean squared error, use the function'root_mean_squared_error'.\n",
      "  warnings.warn(\n",
      "C:\\Users\\wetzl\\AppData\\Local\\Programs\\Python\\Python311\\Lib\\site-packages\\sklearn\\metrics\\_regression.py:483: FutureWarning: 'squared' is deprecated in version 1.4 and will be removed in 1.6. To calculate the root mean squared error, use the function'root_mean_squared_error'.\n",
      "  warnings.warn(\n",
      "C:\\Users\\wetzl\\AppData\\Local\\Programs\\Python\\Python311\\Lib\\site-packages\\sklearn\\metrics\\_regression.py:483: FutureWarning: 'squared' is deprecated in version 1.4 and will be removed in 1.6. To calculate the root mean squared error, use the function'root_mean_squared_error'.\n",
      "  warnings.warn(\n",
      "C:\\Users\\wetzl\\AppData\\Local\\Programs\\Python\\Python311\\Lib\\site-packages\\sklearn\\metrics\\_regression.py:483: FutureWarning: 'squared' is deprecated in version 1.4 and will be removed in 1.6. To calculate the root mean squared error, use the function'root_mean_squared_error'.\n",
      "  warnings.warn(\n",
      "C:\\Users\\wetzl\\AppData\\Local\\Programs\\Python\\Python311\\Lib\\site-packages\\sklearn\\metrics\\_regression.py:483: FutureWarning: 'squared' is deprecated in version 1.4 and will be removed in 1.6. To calculate the root mean squared error, use the function'root_mean_squared_error'.\n",
      "  warnings.warn(\n",
      "C:\\Users\\wetzl\\AppData\\Local\\Programs\\Python\\Python311\\Lib\\site-packages\\sklearn\\metrics\\_regression.py:483: FutureWarning: 'squared' is deprecated in version 1.4 and will be removed in 1.6. To calculate the root mean squared error, use the function'root_mean_squared_error'.\n",
      "  warnings.warn(\n",
      "C:\\Users\\wetzl\\AppData\\Local\\Programs\\Python\\Python311\\Lib\\site-packages\\sklearn\\metrics\\_regression.py:483: FutureWarning: 'squared' is deprecated in version 1.4 and will be removed in 1.6. To calculate the root mean squared error, use the function'root_mean_squared_error'.\n",
      "  warnings.warn(\n",
      "C:\\Users\\wetzl\\AppData\\Local\\Programs\\Python\\Python311\\Lib\\site-packages\\sklearn\\metrics\\_regression.py:483: FutureWarning: 'squared' is deprecated in version 1.4 and will be removed in 1.6. To calculate the root mean squared error, use the function'root_mean_squared_error'.\n",
      "  warnings.warn(\n",
      "C:\\Users\\wetzl\\AppData\\Local\\Programs\\Python\\Python311\\Lib\\site-packages\\sklearn\\metrics\\_regression.py:483: FutureWarning: 'squared' is deprecated in version 1.4 and will be removed in 1.6. To calculate the root mean squared error, use the function'root_mean_squared_error'.\n",
      "  warnings.warn(\n",
      "C:\\Users\\wetzl\\AppData\\Local\\Programs\\Python\\Python311\\Lib\\site-packages\\sklearn\\metrics\\_regression.py:483: FutureWarning: 'squared' is deprecated in version 1.4 and will be removed in 1.6. To calculate the root mean squared error, use the function'root_mean_squared_error'.\n",
      "  warnings.warn(\n",
      "C:\\Users\\wetzl\\AppData\\Local\\Programs\\Python\\Python311\\Lib\\site-packages\\sklearn\\metrics\\_regression.py:483: FutureWarning: 'squared' is deprecated in version 1.4 and will be removed in 1.6. To calculate the root mean squared error, use the function'root_mean_squared_error'.\n",
      "  warnings.warn(\n",
      "C:\\Users\\wetzl\\AppData\\Local\\Programs\\Python\\Python311\\Lib\\site-packages\\sklearn\\metrics\\_regression.py:483: FutureWarning: 'squared' is deprecated in version 1.4 and will be removed in 1.6. To calculate the root mean squared error, use the function'root_mean_squared_error'.\n",
      "  warnings.warn(\n",
      "C:\\Users\\wetzl\\AppData\\Local\\Programs\\Python\\Python311\\Lib\\site-packages\\sklearn\\metrics\\_regression.py:483: FutureWarning: 'squared' is deprecated in version 1.4 and will be removed in 1.6. To calculate the root mean squared error, use the function'root_mean_squared_error'.\n",
      "  warnings.warn(\n",
      "C:\\Users\\wetzl\\AppData\\Local\\Programs\\Python\\Python311\\Lib\\site-packages\\sklearn\\metrics\\_regression.py:483: FutureWarning: 'squared' is deprecated in version 1.4 and will be removed in 1.6. To calculate the root mean squared error, use the function'root_mean_squared_error'.\n",
      "  warnings.warn(\n",
      "C:\\Users\\wetzl\\AppData\\Local\\Programs\\Python\\Python311\\Lib\\site-packages\\sklearn\\metrics\\_regression.py:483: FutureWarning: 'squared' is deprecated in version 1.4 and will be removed in 1.6. To calculate the root mean squared error, use the function'root_mean_squared_error'.\n",
      "  warnings.warn(\n",
      "C:\\Users\\wetzl\\AppData\\Local\\Programs\\Python\\Python311\\Lib\\site-packages\\sklearn\\metrics\\_regression.py:483: FutureWarning: 'squared' is deprecated in version 1.4 and will be removed in 1.6. To calculate the root mean squared error, use the function'root_mean_squared_error'.\n",
      "  warnings.warn(\n",
      "C:\\Users\\wetzl\\AppData\\Local\\Programs\\Python\\Python311\\Lib\\site-packages\\sklearn\\metrics\\_regression.py:483: FutureWarning: 'squared' is deprecated in version 1.4 and will be removed in 1.6. To calculate the root mean squared error, use the function'root_mean_squared_error'.\n",
      "  warnings.warn(\n",
      "C:\\Users\\wetzl\\AppData\\Local\\Programs\\Python\\Python311\\Lib\\site-packages\\sklearn\\metrics\\_regression.py:483: FutureWarning: 'squared' is deprecated in version 1.4 and will be removed in 1.6. To calculate the root mean squared error, use the function'root_mean_squared_error'.\n",
      "  warnings.warn(\n",
      "C:\\Users\\wetzl\\AppData\\Local\\Programs\\Python\\Python311\\Lib\\site-packages\\sklearn\\metrics\\_regression.py:483: FutureWarning: 'squared' is deprecated in version 1.4 and will be removed in 1.6. To calculate the root mean squared error, use the function'root_mean_squared_error'.\n",
      "  warnings.warn(\n",
      "C:\\Users\\wetzl\\AppData\\Local\\Programs\\Python\\Python311\\Lib\\site-packages\\sklearn\\metrics\\_regression.py:483: FutureWarning: 'squared' is deprecated in version 1.4 and will be removed in 1.6. To calculate the root mean squared error, use the function'root_mean_squared_error'.\n",
      "  warnings.warn(\n",
      "C:\\Users\\wetzl\\AppData\\Local\\Programs\\Python\\Python311\\Lib\\site-packages\\sklearn\\metrics\\_regression.py:483: FutureWarning: 'squared' is deprecated in version 1.4 and will be removed in 1.6. To calculate the root mean squared error, use the function'root_mean_squared_error'.\n",
      "  warnings.warn(\n",
      "C:\\Users\\wetzl\\AppData\\Local\\Programs\\Python\\Python311\\Lib\\site-packages\\sklearn\\metrics\\_regression.py:483: FutureWarning: 'squared' is deprecated in version 1.4 and will be removed in 1.6. To calculate the root mean squared error, use the function'root_mean_squared_error'.\n",
      "  warnings.warn(\n",
      "C:\\Users\\wetzl\\AppData\\Local\\Programs\\Python\\Python311\\Lib\\site-packages\\sklearn\\metrics\\_regression.py:483: FutureWarning: 'squared' is deprecated in version 1.4 and will be removed in 1.6. To calculate the root mean squared error, use the function'root_mean_squared_error'.\n",
      "  warnings.warn(\n",
      "C:\\Users\\wetzl\\AppData\\Local\\Programs\\Python\\Python311\\Lib\\site-packages\\sklearn\\metrics\\_regression.py:483: FutureWarning: 'squared' is deprecated in version 1.4 and will be removed in 1.6. To calculate the root mean squared error, use the function'root_mean_squared_error'.\n",
      "  warnings.warn(\n",
      "C:\\Users\\wetzl\\AppData\\Local\\Programs\\Python\\Python311\\Lib\\site-packages\\sklearn\\metrics\\_regression.py:483: FutureWarning: 'squared' is deprecated in version 1.4 and will be removed in 1.6. To calculate the root mean squared error, use the function'root_mean_squared_error'.\n",
      "  warnings.warn(\n",
      "C:\\Users\\wetzl\\AppData\\Local\\Programs\\Python\\Python311\\Lib\\site-packages\\sklearn\\metrics\\_regression.py:483: FutureWarning: 'squared' is deprecated in version 1.4 and will be removed in 1.6. To calculate the root mean squared error, use the function'root_mean_squared_error'.\n",
      "  warnings.warn(\n",
      "C:\\Users\\wetzl\\AppData\\Local\\Programs\\Python\\Python311\\Lib\\site-packages\\sklearn\\metrics\\_regression.py:483: FutureWarning: 'squared' is deprecated in version 1.4 and will be removed in 1.6. To calculate the root mean squared error, use the function'root_mean_squared_error'.\n",
      "  warnings.warn(\n",
      "C:\\Users\\wetzl\\AppData\\Local\\Programs\\Python\\Python311\\Lib\\site-packages\\sklearn\\metrics\\_regression.py:483: FutureWarning: 'squared' is deprecated in version 1.4 and will be removed in 1.6. To calculate the root mean squared error, use the function'root_mean_squared_error'.\n",
      "  warnings.warn(\n",
      "C:\\Users\\wetzl\\AppData\\Local\\Programs\\Python\\Python311\\Lib\\site-packages\\sklearn\\metrics\\_regression.py:483: FutureWarning: 'squared' is deprecated in version 1.4 and will be removed in 1.6. To calculate the root mean squared error, use the function'root_mean_squared_error'.\n",
      "  warnings.warn(\n",
      "C:\\Users\\wetzl\\AppData\\Local\\Programs\\Python\\Python311\\Lib\\site-packages\\sklearn\\metrics\\_regression.py:483: FutureWarning: 'squared' is deprecated in version 1.4 and will be removed in 1.6. To calculate the root mean squared error, use the function'root_mean_squared_error'.\n",
      "  warnings.warn(\n",
      "C:\\Users\\wetzl\\AppData\\Local\\Programs\\Python\\Python311\\Lib\\site-packages\\sklearn\\metrics\\_regression.py:483: FutureWarning: 'squared' is deprecated in version 1.4 and will be removed in 1.6. To calculate the root mean squared error, use the function'root_mean_squared_error'.\n",
      "  warnings.warn(\n",
      "C:\\Users\\wetzl\\AppData\\Local\\Programs\\Python\\Python311\\Lib\\site-packages\\sklearn\\metrics\\_regression.py:483: FutureWarning: 'squared' is deprecated in version 1.4 and will be removed in 1.6. To calculate the root mean squared error, use the function'root_mean_squared_error'.\n",
      "  warnings.warn(\n",
      "C:\\Users\\wetzl\\AppData\\Local\\Programs\\Python\\Python311\\Lib\\site-packages\\sklearn\\metrics\\_regression.py:483: FutureWarning: 'squared' is deprecated in version 1.4 and will be removed in 1.6. To calculate the root mean squared error, use the function'root_mean_squared_error'.\n",
      "  warnings.warn(\n",
      "C:\\Users\\wetzl\\AppData\\Local\\Programs\\Python\\Python311\\Lib\\site-packages\\sklearn\\metrics\\_regression.py:483: FutureWarning: 'squared' is deprecated in version 1.4 and will be removed in 1.6. To calculate the root mean squared error, use the function'root_mean_squared_error'.\n",
      "  warnings.warn(\n",
      "C:\\Users\\wetzl\\AppData\\Local\\Programs\\Python\\Python311\\Lib\\site-packages\\sklearn\\metrics\\_regression.py:483: FutureWarning: 'squared' is deprecated in version 1.4 and will be removed in 1.6. To calculate the root mean squared error, use the function'root_mean_squared_error'.\n",
      "  warnings.warn(\n",
      "C:\\Users\\wetzl\\AppData\\Local\\Programs\\Python\\Python311\\Lib\\site-packages\\sklearn\\metrics\\_regression.py:483: FutureWarning: 'squared' is deprecated in version 1.4 and will be removed in 1.6. To calculate the root mean squared error, use the function'root_mean_squared_error'.\n",
      "  warnings.warn(\n",
      "C:\\Users\\wetzl\\AppData\\Local\\Programs\\Python\\Python311\\Lib\\site-packages\\sklearn\\metrics\\_regression.py:483: FutureWarning: 'squared' is deprecated in version 1.4 and will be removed in 1.6. To calculate the root mean squared error, use the function'root_mean_squared_error'.\n",
      "  warnings.warn(\n",
      "C:\\Users\\wetzl\\AppData\\Local\\Programs\\Python\\Python311\\Lib\\site-packages\\sklearn\\metrics\\_regression.py:483: FutureWarning: 'squared' is deprecated in version 1.4 and will be removed in 1.6. To calculate the root mean squared error, use the function'root_mean_squared_error'.\n",
      "  warnings.warn(\n",
      "C:\\Users\\wetzl\\AppData\\Local\\Programs\\Python\\Python311\\Lib\\site-packages\\sklearn\\metrics\\_regression.py:483: FutureWarning: 'squared' is deprecated in version 1.4 and will be removed in 1.6. To calculate the root mean squared error, use the function'root_mean_squared_error'.\n",
      "  warnings.warn(\n",
      "C:\\Users\\wetzl\\AppData\\Local\\Programs\\Python\\Python311\\Lib\\site-packages\\sklearn\\metrics\\_regression.py:483: FutureWarning: 'squared' is deprecated in version 1.4 and will be removed in 1.6. To calculate the root mean squared error, use the function'root_mean_squared_error'.\n",
      "  warnings.warn(\n",
      "C:\\Users\\wetzl\\AppData\\Local\\Programs\\Python\\Python311\\Lib\\site-packages\\sklearn\\metrics\\_regression.py:483: FutureWarning: 'squared' is deprecated in version 1.4 and will be removed in 1.6. To calculate the root mean squared error, use the function'root_mean_squared_error'.\n",
      "  warnings.warn(\n",
      "C:\\Users\\wetzl\\AppData\\Local\\Programs\\Python\\Python311\\Lib\\site-packages\\sklearn\\metrics\\_regression.py:483: FutureWarning: 'squared' is deprecated in version 1.4 and will be removed in 1.6. To calculate the root mean squared error, use the function'root_mean_squared_error'.\n",
      "  warnings.warn(\n",
      "C:\\Users\\wetzl\\AppData\\Local\\Programs\\Python\\Python311\\Lib\\site-packages\\sklearn\\metrics\\_regression.py:483: FutureWarning: 'squared' is deprecated in version 1.4 and will be removed in 1.6. To calculate the root mean squared error, use the function'root_mean_squared_error'.\n",
      "  warnings.warn(\n",
      "C:\\Users\\wetzl\\AppData\\Local\\Programs\\Python\\Python311\\Lib\\site-packages\\sklearn\\metrics\\_regression.py:483: FutureWarning: 'squared' is deprecated in version 1.4 and will be removed in 1.6. To calculate the root mean squared error, use the function'root_mean_squared_error'.\n",
      "  warnings.warn(\n",
      "C:\\Users\\wetzl\\AppData\\Local\\Programs\\Python\\Python311\\Lib\\site-packages\\sklearn\\metrics\\_regression.py:483: FutureWarning: 'squared' is deprecated in version 1.4 and will be removed in 1.6. To calculate the root mean squared error, use the function'root_mean_squared_error'.\n",
      "  warnings.warn(\n",
      "C:\\Users\\wetzl\\AppData\\Local\\Programs\\Python\\Python311\\Lib\\site-packages\\sklearn\\metrics\\_regression.py:483: FutureWarning: 'squared' is deprecated in version 1.4 and will be removed in 1.6. To calculate the root mean squared error, use the function'root_mean_squared_error'.\n",
      "  warnings.warn(\n",
      "C:\\Users\\wetzl\\AppData\\Local\\Programs\\Python\\Python311\\Lib\\site-packages\\sklearn\\metrics\\_regression.py:483: FutureWarning: 'squared' is deprecated in version 1.4 and will be removed in 1.6. To calculate the root mean squared error, use the function'root_mean_squared_error'.\n",
      "  warnings.warn(\n",
      "C:\\Users\\wetzl\\AppData\\Local\\Programs\\Python\\Python311\\Lib\\site-packages\\sklearn\\metrics\\_regression.py:483: FutureWarning: 'squared' is deprecated in version 1.4 and will be removed in 1.6. To calculate the root mean squared error, use the function'root_mean_squared_error'.\n",
      "  warnings.warn(\n",
      "C:\\Users\\wetzl\\AppData\\Local\\Programs\\Python\\Python311\\Lib\\site-packages\\sklearn\\metrics\\_regression.py:483: FutureWarning: 'squared' is deprecated in version 1.4 and will be removed in 1.6. To calculate the root mean squared error, use the function'root_mean_squared_error'.\n",
      "  warnings.warn(\n",
      "C:\\Users\\wetzl\\AppData\\Local\\Programs\\Python\\Python311\\Lib\\site-packages\\sklearn\\metrics\\_regression.py:483: FutureWarning: 'squared' is deprecated in version 1.4 and will be removed in 1.6. To calculate the root mean squared error, use the function'root_mean_squared_error'.\n",
      "  warnings.warn(\n",
      "C:\\Users\\wetzl\\AppData\\Local\\Programs\\Python\\Python311\\Lib\\site-packages\\sklearn\\metrics\\_regression.py:483: FutureWarning: 'squared' is deprecated in version 1.4 and will be removed in 1.6. To calculate the root mean squared error, use the function'root_mean_squared_error'.\n",
      "  warnings.warn(\n",
      "C:\\Users\\wetzl\\AppData\\Local\\Programs\\Python\\Python311\\Lib\\site-packages\\sklearn\\metrics\\_regression.py:483: FutureWarning: 'squared' is deprecated in version 1.4 and will be removed in 1.6. To calculate the root mean squared error, use the function'root_mean_squared_error'.\n",
      "  warnings.warn(\n",
      "C:\\Users\\wetzl\\AppData\\Local\\Programs\\Python\\Python311\\Lib\\site-packages\\sklearn\\metrics\\_regression.py:483: FutureWarning: 'squared' is deprecated in version 1.4 and will be removed in 1.6. To calculate the root mean squared error, use the function'root_mean_squared_error'.\n",
      "  warnings.warn(\n",
      "C:\\Users\\wetzl\\AppData\\Local\\Programs\\Python\\Python311\\Lib\\site-packages\\sklearn\\metrics\\_regression.py:483: FutureWarning: 'squared' is deprecated in version 1.4 and will be removed in 1.6. To calculate the root mean squared error, use the function'root_mean_squared_error'.\n",
      "  warnings.warn(\n",
      "C:\\Users\\wetzl\\AppData\\Local\\Programs\\Python\\Python311\\Lib\\site-packages\\sklearn\\metrics\\_regression.py:483: FutureWarning: 'squared' is deprecated in version 1.4 and will be removed in 1.6. To calculate the root mean squared error, use the function'root_mean_squared_error'.\n",
      "  warnings.warn(\n",
      "C:\\Users\\wetzl\\AppData\\Local\\Programs\\Python\\Python311\\Lib\\site-packages\\sklearn\\metrics\\_regression.py:483: FutureWarning: 'squared' is deprecated in version 1.4 and will be removed in 1.6. To calculate the root mean squared error, use the function'root_mean_squared_error'.\n",
      "  warnings.warn(\n",
      "C:\\Users\\wetzl\\AppData\\Local\\Programs\\Python\\Python311\\Lib\\site-packages\\sklearn\\metrics\\_regression.py:483: FutureWarning: 'squared' is deprecated in version 1.4 and will be removed in 1.6. To calculate the root mean squared error, use the function'root_mean_squared_error'.\n",
      "  warnings.warn(\n",
      "C:\\Users\\wetzl\\AppData\\Local\\Programs\\Python\\Python311\\Lib\\site-packages\\sklearn\\metrics\\_regression.py:483: FutureWarning: 'squared' is deprecated in version 1.4 and will be removed in 1.6. To calculate the root mean squared error, use the function'root_mean_squared_error'.\n",
      "  warnings.warn(\n",
      "C:\\Users\\wetzl\\AppData\\Local\\Programs\\Python\\Python311\\Lib\\site-packages\\sklearn\\metrics\\_regression.py:483: FutureWarning: 'squared' is deprecated in version 1.4 and will be removed in 1.6. To calculate the root mean squared error, use the function'root_mean_squared_error'.\n",
      "  warnings.warn(\n",
      "C:\\Users\\wetzl\\AppData\\Local\\Programs\\Python\\Python311\\Lib\\site-packages\\sklearn\\metrics\\_regression.py:483: FutureWarning: 'squared' is deprecated in version 1.4 and will be removed in 1.6. To calculate the root mean squared error, use the function'root_mean_squared_error'.\n",
      "  warnings.warn(\n"
     ]
    }
   ],
   "source": [
    "loo = LeaveOneOut()\n",
    "initial_model_loocv_errors = []\n",
    "reduced_model_loocv_errors = []\n",
    "\n",
    "for train_index, test_index in loo.split(X3a):\n",
    "    # Initial model LOOCV\n",
    "    X4a_train, X4a_test = X3a_w_const.iloc[train_index], X3a_w_const.iloc[test_index]\n",
    "    y4a_train, y4a_test = y3a.iloc[train_index], y3a.iloc[test_index]\n",
    "    \n",
    "    model4a = sm.OLS(y4a_train, X4a_train).fit()\n",
    "    y_pred4a = model4a.predict(X4a_test)\n",
    "    initial_model_loocv_errors.append(mean_squared_error(y4a_test, y_pred4a, squared=False))\n",
    "    # Reduced model LOOCV\n",
    "    X4a_train_reduced, X4a_test_reduced = X3a_reduced_w_const.iloc[train_index], X3a_reduced_w_const.iloc[test_index]\n",
    "    \n",
    "    reduced_model4a = sm.OLS(y4a_train, X4a_train_reduced).fit()\n",
    "    y_pred_reduced4a = reduced_model4a.predict(X4a_test_reduced)\n",
    "    reduced_model_loocv_errors.append(mean_squared_error(y4a_test, y_pred_reduced4a, squared=False))\n",
    "\n",
    "# Calculate the average LOOCV error for both models\n",
    "initial_loocv_error = np.mean(initial_model_loocv_errors)\n",
    "reduced_loocv_error = np.mean(reduced_model_loocv_errors)\n",
    "\n",
    "print(f'Initial Model LOOCV Error: {initial_loocv_error}')\n",
    "print(f'Reduced Model LOOCV Error: {reduced_loocv_error}')"
   ],
   "metadata": {
    "collapsed": false,
    "ExecuteTime": {
     "end_time": "2024-04-06T01:33:56.839589Z",
     "start_time": "2024-04-06T01:33:56.725357Z"
    }
   },
   "id": "e2072152985cca20",
   "execution_count": 57
  },
  {
   "cell_type": "markdown",
   "source": [
    "## Problem 4 b"
   ],
   "metadata": {
    "collapsed": false
   },
   "id": "8a10e553e1f1f2c1"
  },
  {
   "cell_type": "code",
   "outputs": [
    {
     "name": "stdout",
     "output_type": "stream",
     "text": [
      "Average CV Error Initial Model: 1.7415770058070863\n",
      "Average CV Error Reduced Model: 1.7928084430313707\n"
     ]
    }
   ],
   "source": [
    "kf = KFold(n_splits=10, shuffle=True, random_state=1)\n",
    "\n",
    "cv_errors_initial_model = []\n",
    "cv_errors_reduced_model = []\n",
    "\n",
    "# Perform cross validation\n",
    "for train_index, test_index in kf.split(X3a):\n",
    "    X_train, X_test = X3a.iloc[train_index], X3a.iloc[test_index]\n",
    "    y_train, y_test = y3a.iloc[train_index], y3a.iloc[test_index]\n",
    "    # Fit the initial model\n",
    "    X_train_w_const = sm.add_constant(X_train)\n",
    "    initial_model = sm.OLS(y_train, X_train_w_const).fit()\n",
    "    # Predict and calculate error for the initial model\n",
    "    initial_predictions = initial_model.predict(sm.add_constant(X_test))\n",
    "    cv_errors_initial_model.append(mean_squared_error(y_test, initial_predictions))\n",
    "    # Find the smallest predictors based on this fold\n",
    "    coefficients = initial_model.params\n",
    "    abs_coefficients = coefficients.abs().drop('const')\n",
    "    smallest_predictors = abs_coefficients.sort_values().head(5).index\n",
    "    # Drop the smallest predictors and retrain\n",
    "    X_train_reduced = X_train.drop(columns=smallest_predictors)\n",
    "    X_train_reduced_w_const = sm.add_constant(X_train_reduced)\n",
    "    reduced_model = sm.OLS(y_train, X_train_reduced_w_const).fit()\n",
    "    # Predict and calculate error for the reduced model\n",
    "    X_test_reduced = X_test.drop(columns=smallest_predictors)\n",
    "    reduced_predictions = reduced_model.predict(sm.add_constant(X_test_reduced))\n",
    "    cv_errors_reduced_model.append(mean_squared_error(y_test, reduced_predictions))\n",
    "\n",
    "# Calculate the average CV error for both models\n",
    "average_cv_error_initial_model = np.mean(cv_errors_initial_model)\n",
    "average_cv_error_reduced_model = np.mean(cv_errors_reduced_model)\n",
    "\n",
    "print(f'Average CV Error Initial Model: {average_cv_error_initial_model}')\n",
    "print(f'Average CV Error Reduced Model: {average_cv_error_reduced_model}')"
   ],
   "metadata": {
    "collapsed": false,
    "ExecuteTime": {
     "end_time": "2024-04-06T02:53:22.993270Z",
     "start_time": "2024-04-06T02:53:22.905202Z"
    }
   },
   "id": "51adf69d7e05de2a",
   "execution_count": 77
  },
  {
   "cell_type": "markdown",
   "source": [
    "The initial model has an average cross-validation error of approximately 1.74, which suggests that on average, the squared deviations of the predicted values from the actual values across all folds are around this value.\n",
    "The reduced model, which excludes the five predictors with the smallest coefficients in absolute value, has a slightly higher average cross-validation error of approximately 1.79\n",
    "\n",
    "The fairly insubstantial difference in the average cross-validation errors suggests that while the removed variables did contribute some, the reduced model may be more parsimonious without sacrificing much predictive accuracy. "
   ],
   "metadata": {
    "collapsed": false
   },
   "id": "ca6b3dd4dd74535d"
  },
  {
   "cell_type": "markdown",
   "source": [
    "## Problem 5"
   ],
   "metadata": {
    "collapsed": false
   },
   "id": "e9ff1856afce6665"
  },
  {
   "cell_type": "markdown",
   "source": [
    "A nonparametric bootstrap sample mimics drawing an i.i.d. sample from the population by treating the original sample as a representation of the true population distribution. Each bootstrap sample is drawn with replacement from the original data, which means every observation has the same chance to appear again, ensuring the \"identically distributed\" condition. "
   ],
   "metadata": {
    "collapsed": false
   },
   "id": "a79788d97d8489e1"
  }
 ],
 "metadata": {
  "kernelspec": {
   "display_name": "Python 3",
   "language": "python",
   "name": "python3"
  },
  "language_info": {
   "codemirror_mode": {
    "name": "ipython",
    "version": 2
   },
   "file_extension": ".py",
   "mimetype": "text/x-python",
   "name": "python",
   "nbconvert_exporter": "python",
   "pygments_lexer": "ipython2",
   "version": "2.7.6"
  }
 },
 "nbformat": 4,
 "nbformat_minor": 5
}
